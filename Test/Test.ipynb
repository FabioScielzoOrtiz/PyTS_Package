{
 "cells": [
  {
   "cell_type": "code",
   "execution_count": 2,
   "metadata": {},
   "outputs": [
    {
     "name": "stdout",
     "output_type": "stream",
     "text": [
      "Collecting TimeSeriesPy\n",
      "  Downloading TimeSeriesPy-0.0.1-py3-none-any.whl.metadata (571 bytes)\n",
      "Requirement already satisfied: pandas in c:\\users\\fscielzo\\appdata\\local\\programs\\python\\python312\\lib\\site-packages (from TimeSeriesPy) (2.1.1)\n",
      "Requirement already satisfied: numpy in c:\\users\\fscielzo\\appdata\\local\\programs\\python\\python312\\lib\\site-packages (from TimeSeriesPy) (1.26.1)\n",
      "Requirement already satisfied: python-dateutil>=2.8.2 in c:\\users\\fscielzo\\appdata\\roaming\\python\\python312\\site-packages (from pandas->TimeSeriesPy) (2.8.2)\n",
      "Requirement already satisfied: pytz>=2020.1 in c:\\users\\fscielzo\\appdata\\local\\programs\\python\\python312\\lib\\site-packages (from pandas->TimeSeriesPy) (2023.3.post1)\n",
      "Requirement already satisfied: tzdata>=2022.1 in c:\\users\\fscielzo\\appdata\\local\\programs\\python\\python312\\lib\\site-packages (from pandas->TimeSeriesPy) (2023.3)\n",
      "Requirement already satisfied: six>=1.5 in c:\\users\\fscielzo\\appdata\\roaming\\python\\python312\\site-packages (from python-dateutil>=2.8.2->pandas->TimeSeriesPy) (1.16.0)\n",
      "Downloading TimeSeriesPy-0.0.1-py3-none-any.whl (2.5 kB)\n",
      "Installing collected packages: TimeSeriesPy\n",
      "Successfully installed TimeSeriesPy-0.0.1\n",
      "Note: you may need to restart the kernel to use updated packages.\n"
     ]
    }
   ],
   "source": [
    "pip install TimeSeriesPy"
   ]
  },
  {
   "cell_type": "code",
   "execution_count": 3,
   "metadata": {},
   "outputs": [],
   "source": [
    "from TimeSeriesPy.test import mytest"
   ]
  },
  {
   "cell_type": "code",
   "execution_count": 4,
   "metadata": {},
   "outputs": [
    {
     "name": "stdout",
     "output_type": "stream",
     "text": [
      "just a test\n"
     ]
    }
   ],
   "source": [
    "mytest()"
   ]
  }
 ],
 "metadata": {
  "kernelspec": {
   "display_name": "Python 3",
   "language": "python",
   "name": "python3"
  },
  "language_info": {
   "codemirror_mode": {
    "name": "ipython",
    "version": 3
   },
   "file_extension": ".py",
   "mimetype": "text/x-python",
   "name": "python",
   "nbconvert_exporter": "python",
   "pygments_lexer": "ipython3",
   "version": "3.12.0"
  }
 },
 "nbformat": 4,
 "nbformat_minor": 2
}
